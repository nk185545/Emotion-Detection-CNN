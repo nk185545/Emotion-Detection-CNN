{
 "cells": [
  {
   "cell_type": "code",
   "execution_count": 1,
   "metadata": {},
   "outputs": [],
   "source": [
    "import numpy as np\n",
    "import cv2\n",
    "\n",
    "\n",
    "from keras.models import Sequential\n",
    "from keras.layers import Dense,Dropout, Flatten\n",
    "from keras.layers import Conv2D\n",
    "from keras.optimizers import Adam\n",
    "from keras.layers import MaxPooling2D\n",
    "from keras.preprocessing.image import ImageDataGenerator"
   ]
  },
  {
   "cell_type": "code",
   "execution_count": 2,
   "metadata": {},
   "outputs": [
    {
     "name": "stdout",
     "output_type": "stream",
     "text": [
      "Found 28821 images belonging to 7 classes.\n",
      "Found 7066 images belonging to 7 classes.\n"
     ]
    }
   ],
   "source": [
    "train_dir = 'images/train'\n",
    "test_dir = 'images/test'\n",
    "train_data_gen = ImageDataGenerator(rescale = 1./255)\n",
    "test_data_gen = ImageDataGenerator(rescale = 1./255)\n",
    "\n",
    "train_gen = train_data_gen.flow_from_directory(train_dir,target_size = (50,50),batch_size =64, color_mode = 'grayscale', class_mode = 'categorical')\n",
    "test_gen = test_data_gen.flow_from_directory(test_dir,target_size = (50,50),batch_size =64, color_mode = 'grayscale', class_mode = 'categorical')\n",
    "\n"
   ]
  },
  {
   "cell_type": "code",
   "execution_count": 3,
   "metadata": {},
   "outputs": [
    {
     "name": "stdout",
     "output_type": "stream",
     "text": [
      "Model: \"sequential\"\n",
      "_________________________________________________________________\n",
      "Layer (type)                 Output Shape              Param #   \n",
      "=================================================================\n",
      "conv2d (Conv2D)              (None, 48, 48, 32)        320       \n",
      "_________________________________________________________________\n",
      "conv2d_1 (Conv2D)            (None, 46, 46, 64)        18496     \n",
      "_________________________________________________________________\n",
      "max_pooling2d (MaxPooling2D) (None, 23, 23, 64)        0         \n",
      "_________________________________________________________________\n",
      "dropout (Dropout)            (None, 23, 23, 64)        0         \n",
      "_________________________________________________________________\n",
      "conv2d_2 (Conv2D)            (None, 21, 21, 128)       73856     \n",
      "_________________________________________________________________\n",
      "max_pooling2d_1 (MaxPooling2 (None, 10, 10, 128)       0         \n",
      "_________________________________________________________________\n",
      "conv2d_3 (Conv2D)            (None, 8, 8, 128)         147584    \n",
      "_________________________________________________________________\n",
      "max_pooling2d_2 (MaxPooling2 (None, 4, 4, 128)         0         \n",
      "_________________________________________________________________\n",
      "dropout_1 (Dropout)          (None, 4, 4, 128)         0         \n",
      "_________________________________________________________________\n",
      "flatten (Flatten)            (None, 2048)              0         \n",
      "_________________________________________________________________\n",
      "dense (Dense)                (None, 1024)              2098176   \n",
      "_________________________________________________________________\n",
      "dropout_2 (Dropout)          (None, 1024)              0         \n",
      "_________________________________________________________________\n",
      "dense_1 (Dense)              (None, 7)                 7175      \n",
      "=================================================================\n",
      "Total params: 2,345,607\n",
      "Trainable params: 2,345,607\n",
      "Non-trainable params: 0\n",
      "_________________________________________________________________\n"
     ]
    }
   ],
   "source": [
    "model = Sequential()\n",
    "model.add(Conv2D(32 , kernel_size = (3,3), activation='relu', input_shape = (50,50,1)))\n",
    "model.add(Conv2D(64 , kernel_size = (3,3), activation='relu'))\n",
    "model.add(MaxPooling2D(pool_size = (2,2)))\n",
    "model.add(Dropout(0.25))\n",
    "\n",
    "model.add(Conv2D(128 , kernel_size = (3,3), activation='relu'))\n",
    "model.add(MaxPooling2D(pool_size = (2,2)))\n",
    "\n",
    "model.add(Conv2D(128 , kernel_size = (3,3), activation='relu'))\n",
    "model.add(MaxPooling2D(pool_size = (2,2)))\n",
    "model.add(Dropout(0.25))\n",
    "\n",
    "model.add(Flatten())\n",
    "\n",
    "model.add(Dense(1024 , activation='relu'))\n",
    "model.add(Dropout(0.5))\n",
    "\n",
    "model.add(Dense(7,activation = 'softmax'))\n",
    "\n",
    "model.summary()\n",
    "\n",
    "model.compile(loss='categorical_crossentropy' ,optimizer = 'adam' ,metrics =['accuracy'])"
   ]
  },
  {
   "cell_type": "code",
   "execution_count": 4,
   "metadata": {},
   "outputs": [
    {
     "name": "stdout",
     "output_type": "stream",
     "text": [
      "Epoch 1/20\n",
      "451/451 [==============================] - 389s 862ms/step - loss: 1.8134 - accuracy: 0.2548 - val_loss: 1.5779 - val_accuracy: 0.3991\n",
      "Epoch 2/20\n",
      "451/451 [==============================] - 413s 915ms/step - loss: 1.5424 - accuracy: 0.3988 - val_loss: 1.3417 - val_accuracy: 0.4875\n",
      "Epoch 3/20\n",
      "451/451 [==============================] - 426s 945ms/step - loss: 1.3484 - accuracy: 0.4841 - val_loss: 1.2560 - val_accuracy: 0.5157\n",
      "Epoch 4/20\n",
      "451/451 [==============================] - 414s 919ms/step - loss: 1.2562 - accuracy: 0.5167 - val_loss: 1.1885 - val_accuracy: 0.5417\n",
      "Epoch 5/20\n",
      "451/451 [==============================] - 336s 744ms/step - loss: 1.1827 - accuracy: 0.5504 - val_loss: 1.1800 - val_accuracy: 0.5481\n",
      "Epoch 6/20\n",
      "451/451 [==============================] - 341s 756ms/step - loss: 1.1173 - accuracy: 0.5781 - val_loss: 1.1395 - val_accuracy: 0.5667\n",
      "Epoch 7/20\n",
      "451/451 [==============================] - 272s 602ms/step - loss: 1.0780 - accuracy: 0.5917 - val_loss: 1.1189 - val_accuracy: 0.5763\n",
      "Epoch 8/20\n",
      "451/451 [==============================] - 216s 479ms/step - loss: 1.0309 - accuracy: 0.6090 - val_loss: 1.1019 - val_accuracy: 0.5877\n",
      "Epoch 9/20\n",
      "451/451 [==============================] - 216s 479ms/step - loss: 1.0002 - accuracy: 0.6235 - val_loss: 1.0792 - val_accuracy: 0.6006\n",
      "Epoch 10/20\n",
      "451/451 [==============================] - 216s 478ms/step - loss: 0.9506 - accuracy: 0.6414 - val_loss: 1.0768 - val_accuracy: 0.6018\n",
      "Epoch 11/20\n",
      "451/451 [==============================] - 215s 477ms/step - loss: 0.9176 - accuracy: 0.6614 - val_loss: 1.0816 - val_accuracy: 0.5998\n",
      "Epoch 12/20\n",
      "451/451 [==============================] - 215s 477ms/step - loss: 0.8792 - accuracy: 0.6740 - val_loss: 1.0685 - val_accuracy: 0.6085\n",
      "Epoch 13/20\n",
      "451/451 [==============================] - 215s 477ms/step - loss: 0.8461 - accuracy: 0.6820 - val_loss: 1.0751 - val_accuracy: 0.6098\n",
      "Epoch 14/20\n",
      "451/451 [==============================] - 216s 479ms/step - loss: 0.8224 - accuracy: 0.6921 - val_loss: 1.0818 - val_accuracy: 0.6155\n",
      "Epoch 15/20\n",
      "451/451 [==============================] - 215s 477ms/step - loss: 0.7804 - accuracy: 0.7095 - val_loss: 1.0895 - val_accuracy: 0.6044\n",
      "Epoch 16/20\n",
      "451/451 [==============================] - 215s 476ms/step - loss: 0.7471 - accuracy: 0.7230 - val_loss: 1.0852 - val_accuracy: 0.6142\n",
      "Epoch 17/20\n",
      "451/451 [==============================] - 214s 475ms/step - loss: 0.7194 - accuracy: 0.7338 - val_loss: 1.1306 - val_accuracy: 0.6144\n",
      "Epoch 18/20\n",
      "451/451 [==============================] - 214s 475ms/step - loss: 0.6954 - accuracy: 0.7431 - val_loss: 1.1025 - val_accuracy: 0.6139\n",
      "Epoch 19/20\n",
      "451/451 [==============================] - 216s 480ms/step - loss: 0.6670 - accuracy: 0.7541 - val_loss: 1.1047 - val_accuracy: 0.6156\n",
      "Epoch 20/20\n",
      "451/451 [==============================] - 224s 496ms/step - loss: 0.6402 - accuracy: 0.7639 - val_loss: 1.1257 - val_accuracy: 0.6114\n"
     ]
    }
   ],
   "source": [
    "r = model.fit(train_gen, validation_data = test_gen, epochs =20 ,steps_per_epoch = len(train_gen), validation_steps = len(test_gen))"
   ]
  },
  {
   "cell_type": "code",
   "execution_count": 5,
   "metadata": {},
   "outputs": [],
   "source": [
    "model.save('model.h5')"
   ]
  },
  {
   "cell_type": "code",
   "execution_count": null,
   "metadata": {},
   "outputs": [],
   "source": []
  }
 ],
 "metadata": {
  "kernelspec": {
   "display_name": "Python 3",
   "language": "python",
   "name": "python3"
  },
  "language_info": {
   "codemirror_mode": {
    "name": "ipython",
    "version": 3
   },
   "file_extension": ".py",
   "mimetype": "text/x-python",
   "name": "python",
   "nbconvert_exporter": "python",
   "pygments_lexer": "ipython3",
   "version": "3.8.5"
  }
 },
 "nbformat": 4,
 "nbformat_minor": 4
}
